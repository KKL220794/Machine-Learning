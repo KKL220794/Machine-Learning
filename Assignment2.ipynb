{
  "nbformat": 4,
  "nbformat_minor": 0,
  "metadata": {
    "colab": {
      "name": "Assignment2.ipynb",
      "provenance": [],
      "collapsed_sections": []
    },
    "kernelspec": {
      "name": "python3",
      "display_name": "Python 3"
    }
  },
  "cells": [
    {
      "cell_type": "markdown",
      "metadata": {
        "id": "-02tNUwUmoP9",
        "colab_type": "text"
      },
      "source": [
        "Task1: Problem 1.1 ```Write a Python Program to implement your own myreduce() function which works exactly like Python's built-in function reduce()```\n"
      ]
    },
    {
      "cell_type": "code",
      "metadata": {
        "id": "qVB-W0V7sfUV",
        "colab_type": "code",
        "colab": {
          "base_uri": "https://localhost:8080/",
          "height": 34
        },
        "outputId": "2da962a8-1601-40b1-e922-3637596bc018"
      },
      "source": [
        "def my_reduce(func , list):\n",
        "    item = list[0]\n",
        "    for i in list[1:]:\n",
        "        item  = func(item , i)\n",
        "    return item\n",
        "\n",
        "my_reduce(lambda x,y: x*y , [1,2,3,4,5])"
      ],
      "execution_count": 14,
      "outputs": [
        {
          "output_type": "execute_result",
          "data": {
            "text/plain": [
              "120"
            ]
          },
          "metadata": {
            "tags": []
          },
          "execution_count": 14
        }
      ]
    },
    {
      "cell_type": "markdown",
      "metadata": {
        "id": "DN2bK4aKsvUJ",
        "colab_type": "text"
      },
      "source": [
        "Task1: Problem 1.2 ```Write a Python program to implement your own myfilter() function which works exactly like Python's built-in function filter() ```"
      ]
    },
    {
      "cell_type": "code",
      "metadata": {
        "id": "XdLJMBNesw-R",
        "colab_type": "code",
        "colab": {
          "base_uri": "https://localhost:8080/",
          "height": 34
        },
        "outputId": "b6dc060c-84f8-48e0-99c4-70c73ef8683d"
      },
      "source": [
        "def my_filter(func , list):\n",
        "    list1 = []\n",
        "    for i in list[:]:\n",
        "        result = func(i)\n",
        "        if result ==True:\n",
        "            list1.append(i)\n",
        "    return list1\n",
        "my_filter( lambda x :  x%3==0 , [1,2,3,4,5, 6] )"
      ],
      "execution_count": 13,
      "outputs": [
        {
          "output_type": "execute_result",
          "data": {
            "text/plain": [
              "[3, 6]"
            ]
          },
          "metadata": {
            "tags": []
          },
          "execution_count": 13
        }
      ]
    },
    {
      "cell_type": "markdown",
      "metadata": {
        "id": "A2ejlkwCtS8p",
        "colab_type": "text"
      },
      "source": [
        "Task 1: Problem 2"
      ]
    },
    {
      "cell_type": "code",
      "metadata": {
        "id": "1xqV6XiVtZyQ",
        "colab_type": "code",
        "colab": {
          "base_uri": "https://localhost:8080/",
          "height": 34
        },
        "outputId": "33045e30-2c97-4d05-e372-9fd8f132242b"
      },
      "source": [
        "# ['A', 'C', 'A', 'D', 'G', 'I', ’L’, ‘ D’]\n",
        "\n",
        "[ i for i in 'ACADGILD']\n"
      ],
      "execution_count": 16,
      "outputs": [
        {
          "output_type": "execute_result",
          "data": {
            "text/plain": [
              "['A', 'C', 'A', 'D', 'G', 'I', 'L', 'D']"
            ]
          },
          "metadata": {
            "tags": []
          },
          "execution_count": 16
        }
      ]
    },
    {
      "cell_type": "code",
      "metadata": {
        "id": "gWMMPKGCtsSi",
        "colab_type": "code",
        "colab": {
          "base_uri": "https://localhost:8080/",
          "height": 34
        },
        "outputId": "f1b56524-9b6d-4978-ab04-49fc728e0498"
      },
      "source": [
        "## ['x', 'xx', 'xxx', 'xxxx', 'y', 'yy', 'yyy', 'yyyy', 'z', 'zz', 'zzz', 'zzzz']\n",
        "[i*j for i in 'xyz' for j in range(1,5)]"
      ],
      "execution_count": 17,
      "outputs": [
        {
          "output_type": "execute_result",
          "data": {
            "text/plain": [
              "['x', 'xx', 'xxx', 'xxxx', 'y', 'yy', 'yyy', 'yyyy', 'z', 'zz', 'zzz', 'zzzz']"
            ]
          },
          "metadata": {
            "tags": []
          },
          "execution_count": 17
        }
      ]
    },
    {
      "cell_type": "code",
      "metadata": {
        "id": "o1AwB9pEtuAJ",
        "colab_type": "code",
        "colab": {
          "base_uri": "https://localhost:8080/",
          "height": 34
        },
        "outputId": "f60a3d9e-cba3-4b25-e496-a5d0eac1675d"
      },
      "source": [
        "# ['x', 'y', 'z', 'xx', 'yy', 'zz', 'xx', 'yy', 'zz', 'xxxx', 'yyyy', 'zzzz'] \n",
        "[ j*i for i in range(1,5) for j in 'xyz']\n"
      ],
      "execution_count": 18,
      "outputs": [
        {
          "output_type": "execute_result",
          "data": {
            "text/plain": [
              "['x', 'y', 'z', 'xx', 'yy', 'zz', 'xxx', 'yyy', 'zzz', 'xxxx', 'yyyy', 'zzzz']"
            ]
          },
          "metadata": {
            "tags": []
          },
          "execution_count": 18
        }
      ]
    },
    {
      "cell_type": "code",
      "metadata": {
        "id": "MSYX_p8XuIfP",
        "colab_type": "code",
        "colab": {
          "base_uri": "https://localhost:8080/",
          "height": 34
        },
        "outputId": "78240cab-7567-4cf3-f56e-91c064723efb"
      },
      "source": [
        "# [[2], [3], [4], [3], [4], [5], [4], [5], [6]]\n",
        "\n",
        "[ [i+j] for i in range(2,5) for j in range(3)]"
      ],
      "execution_count": 19,
      "outputs": [
        {
          "output_type": "execute_result",
          "data": {
            "text/plain": [
              "[[2], [3], [4], [3], [4], [5], [4], [5], [6]]"
            ]
          },
          "metadata": {
            "tags": []
          },
          "execution_count": 19
        }
      ]
    },
    {
      "cell_type": "code",
      "metadata": {
        "id": "QhfAcVjZuQEW",
        "colab_type": "code",
        "colab": {
          "base_uri": "https://localhost:8080/",
          "height": 34
        },
        "outputId": "73d58ffd-1440-47fb-eceb-e06f8bdb2b6d"
      },
      "source": [
        "# [[2, 3, 4, 5], [3, 4, 5, 6], [4, 5, 6, 7], [5, 6, 7, 8]] \n",
        "[ [i+j for j in range(4)] for i in range(2,6)]"
      ],
      "execution_count": 20,
      "outputs": [
        {
          "output_type": "execute_result",
          "data": {
            "text/plain": [
              "[[2, 3, 4, 5], [3, 4, 5, 6], [4, 5, 6, 7], [5, 6, 7, 8]]"
            ]
          },
          "metadata": {
            "tags": []
          },
          "execution_count": 20
        }
      ]
    },
    {
      "cell_type": "code",
      "metadata": {
        "id": "ucjkL4N8uYnD",
        "colab_type": "code",
        "colab": {
          "base_uri": "https://localhost:8080/",
          "height": 34
        },
        "outputId": "80d40155-c6a4-4ef2-8049-93ba6d17abaf"
      },
      "source": [
        "# [(1, 1), (2, 1), (3, 1), (1, 2), (2, 2), (3, 2), (1, 3), (2, 3), (3, 3)] \n",
        "[(j,i) for i in range(1,4) for j in range(1,4)]"
      ],
      "execution_count": 21,
      "outputs": [
        {
          "output_type": "execute_result",
          "data": {
            "text/plain": [
              "[(1, 1), (2, 1), (3, 1), (1, 2), (2, 2), (3, 2), (1, 3), (2, 3), (3, 3)]"
            ]
          },
          "metadata": {
            "tags": []
          },
          "execution_count": 21
        }
      ]
    },
    {
      "cell_type": "markdown",
      "metadata": {
        "id": "jYLABcY8usry",
        "colab_type": "text"
      },
      "source": [
        "Task 1: Problem 3 ```Implement a function longestWord() that takes a list of words and returns the longest one.```"
      ]
    },
    {
      "cell_type": "code",
      "metadata": {
        "id": "oBmbrN58uxrb",
        "colab_type": "code",
        "colab": {
          "base_uri": "https://localhost:8080/",
          "height": 34
        },
        "outputId": "36830cb4-1fab-4752-9afa-5510a1f2c468"
      },
      "source": [
        "def longest_word(li):\n",
        "  lon = li[0]\n",
        "  for i in range(1, len(li)):\n",
        "    if len(li[i]) > len(lon):\n",
        "      lon = li[i]\n",
        "  return lon\n",
        "\n",
        "longest = longest_word(['lal','kanhaiya' , 'krishna'])     \n",
        "print(longest)"
      ],
      "execution_count": 25,
      "outputs": [
        {
          "output_type": "stream",
          "text": [
            "kanhaiya\n"
          ],
          "name": "stdout"
        }
      ]
    },
    {
      "cell_type": "markdown",
      "metadata": {
        "id": "LhpWJ-LInSK3",
        "colab_type": "text"
      },
      "source": [
        "Task 2: Problem 1.1 ```Write a Python Program(with class concepts) to find the area of the triangle using the below formula. area = (s*(s-a)*(s-b)*(s-c)) ** 0.5 ```\n",
        "\n"
      ]
    },
    {
      "cell_type": "code",
      "metadata": {
        "id": "we_aXfTbniLI",
        "colab_type": "code",
        "colab": {
          "base_uri": "https://localhost:8080/",
          "height": 34
        },
        "outputId": "08eaaf26-8e70-4386-8884-9d91a0d573f5"
      },
      "source": [
        "class Triangle:\n",
        "  def __init__(self,a,b,c):\n",
        "    self.a = a\n",
        "    self.b = b\n",
        "    self.c = c\n",
        "\n",
        "class Area(Triangle):\n",
        "  def __init__(self, a,b,c):\n",
        "    super().__init__(a,b,c)\n",
        "  \n",
        "  def area(self):\n",
        "    s = (self.a + self.b + self.c )/2\n",
        "    return (s*(s-self.a)*(s-self.b)*(s-self.c))**0.5\n",
        "\n",
        "triange = Area(10,12,5)\n",
        "print(triange.area())"
      ],
      "execution_count": 8,
      "outputs": [
        {
          "output_type": "stream",
          "text": [
            "24.544602257930357\n"
          ],
          "name": "stdout"
        }
      ]
    },
    {
      "cell_type": "markdown",
      "metadata": {
        "id": "EmGOdTLvrvKd",
        "colab_type": "text"
      },
      "source": [
        "Task 2: Problem 1.2 ```Write a function filter_long_words() that takes a list of words and an integer n and returns the list of words that are longer than n.```"
      ]
    },
    {
      "cell_type": "code",
      "metadata": {
        "id": "ctq0X44br3BG",
        "colab_type": "code",
        "outputId": "45734f46-fc8b-4e9d-9e35-9ac6dc05b982",
        "colab": {
          "base_uri": "https://localhost:8080/",
          "height": 34
        }
      },
      "source": [
        "def filter_long_words(li, num):\n",
        "  new_list =list()\n",
        "  for i in li:\n",
        "    if len(i)>num:\n",
        "      new_list.append(i)\n",
        "  return new_list\n",
        "\n",
        "print(filter_long_words(['abba', 'dabba', 'jabbbba'], 4))"
      ],
      "execution_count": 0,
      "outputs": [
        {
          "output_type": "stream",
          "text": [
            "['dabba', 'jabbbba']\n"
          ],
          "name": "stdout"
        }
      ]
    },
    {
      "cell_type": "markdown",
      "metadata": {
        "id": "gOh1OCOWmqSF",
        "colab_type": "text"
      },
      "source": [
        "Task 2: problem 2.1\n",
        "```Write a Python program using function concept that maps  list of words into a list of integers representing the lengths of the corresponding words​. ```"
      ]
    },
    {
      "cell_type": "code",
      "metadata": {
        "id": "owysrIZ5nAUW",
        "colab_type": "code",
        "outputId": "6e884ea7-f093-4e8f-d320-4070a8600fe6",
        "colab": {
          "base_uri": "https://localhost:8080/",
          "height": 34
        }
      },
      "source": [
        "def wordLength(li):\n",
        "  return [len(word) for word in li]\n",
        "\n",
        "print(wordLength( [ 'ab','cde','erty'] ))"
      ],
      "execution_count": 0,
      "outputs": [
        {
          "output_type": "stream",
          "text": [
            "[2, 3, 4]\n"
          ],
          "name": "stdout"
        }
      ]
    },
    {
      "cell_type": "markdown",
      "metadata": {
        "id": "vJedd2y5njJx",
        "colab_type": "text"
      },
      "source": [
        "Task2: Problem 2.2 ```Write a Python function which takes a character (i.e. a string of length 1) and returns True if it is a vowel, False otherwise. ```\n"
      ]
    },
    {
      "cell_type": "code",
      "metadata": {
        "id": "XV6SHSesntOA",
        "colab_type": "code",
        "outputId": "1facc20c-e771-4c34-b6c0-2b5a4c9b1dd1",
        "colab": {
          "base_uri": "https://localhost:8080/",
          "height": 67
        }
      },
      "source": [
        "def isVowel(character):\n",
        "  return True if character.lower() in 'aeiou' else False\n",
        "\n",
        "print(isVowel('a'))\n",
        "print(isVowel('G'))\n",
        "print(isVowel('O'))"
      ],
      "execution_count": 0,
      "outputs": [
        {
          "output_type": "stream",
          "text": [
            "True\n",
            "False\n",
            "True\n"
          ],
          "name": "stdout"
        }
      ]
    }
  ]
}